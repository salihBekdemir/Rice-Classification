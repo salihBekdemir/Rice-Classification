{
 "cells": [
  {
   "cell_type": "markdown",
   "metadata": {},
   "source": [
    "# Rice Classification"
   ]
  },
  {
   "cell_type": "markdown",
   "metadata": {},
   "source": [
    "### In this project, we will train Rice types. To do this, we will first scan the images in the folder containing the Rice images, then reduce their size and normalize them, and then train them with deep learning."
   ]
  },
  {
   "cell_type": "markdown",
   "metadata": {},
   "source": [
    "<a href='https://www.kaggle.com/datasets/muratkokludataset/rice-image-dataset' target=_blank>You can find the data file here</a>"
   ]
  },
  {
   "cell_type": "markdown",
   "metadata": {},
   "source": [
    "<img src=https://i.lezzet.com.tr/images-xxlarge-secondary/en-saglikli-pirinc-turu-nedir-05fbcfc9-1009-412f-a392-4f1fe6fcf9fb.jpg width='400'>"
   ]
  },
  {
   "cell_type": "code",
   "execution_count": 1,
   "metadata": {
    "execution": {
     "iopub.execute_input": "2024-04-07T21:25:07.745401Z",
     "iopub.status.busy": "2024-04-07T21:25:07.744952Z",
     "iopub.status.idle": "2024-04-07T21:25:39.647822Z",
     "shell.execute_reply": "2024-04-07T21:25:39.646441Z",
     "shell.execute_reply.started": "2024-04-07T21:25:07.745375Z"
    }
   },
   "outputs": [],
   "source": [
    "#pip install opencv-python"
   ]
  },
  {
   "cell_type": "code",
   "execution_count": 3,
   "metadata": {
    "execution": {
     "iopub.execute_input": "2024-04-07T21:25:39.650589Z",
     "iopub.status.busy": "2024-04-07T21:25:39.650132Z",
     "iopub.status.idle": "2024-04-07T21:25:39.721447Z",
     "shell.execute_reply": "2024-04-07T21:25:39.720341Z",
     "shell.execute_reply.started": "2024-04-07T21:25:39.650545Z"
    }
   },
   "outputs": [],
   "source": [
    "import cv2\n",
    "import pandas as pd\n",
    "import os"
   ]
  },
  {
   "cell_type": "code",
   "execution_count": 4,
   "metadata": {
    "execution": {
     "iopub.execute_input": "2024-04-07T21:25:39.724775Z",
     "iopub.status.busy": "2024-04-07T21:25:39.724452Z",
     "iopub.status.idle": "2024-04-07T21:25:39.729221Z",
     "shell.execute_reply": "2024-04-07T21:25:39.728476Z",
     "shell.execute_reply.started": "2024-04-07T21:25:39.724750Z"
    }
   },
   "outputs": [],
   "source": [
    "labels = ['Arborio','Basmati','Ipsala','Jasmine','Karacadag']\n",
    "img_path = '/kaggle/input/rice-image-dataset/Rice_Image_Dataset/'"
   ]
  },
  {
   "cell_type": "code",
   "execution_count": 5,
   "metadata": {
    "execution": {
     "iopub.execute_input": "2024-04-07T21:25:39.732552Z",
     "iopub.status.busy": "2024-04-07T21:25:39.732244Z",
     "iopub.status.idle": "2024-04-07T21:25:39.805113Z",
     "shell.execute_reply": "2024-04-07T21:25:39.804088Z",
     "shell.execute_reply.started": "2024-04-07T21:25:39.732527Z"
    }
   },
   "outputs": [],
   "source": [
    "img_list=[]\n",
    "label_list=[]\n",
    "for label in labels:\n",
    "    for img_file in os.listdir(img_path+label):\n",
    "        img_list.append(img_path+label+'/'+img_file)\n",
    "        label_list.append(label)"
   ]
  },
  {
   "cell_type": "code",
   "execution_count": 6,
   "metadata": {
    "execution": {
     "iopub.execute_input": "2024-04-07T21:25:39.806897Z",
     "iopub.status.busy": "2024-04-07T21:25:39.806495Z",
     "iopub.status.idle": "2024-04-07T21:25:39.826665Z",
     "shell.execute_reply": "2024-04-07T21:25:39.825583Z",
     "shell.execute_reply.started": "2024-04-07T21:25:39.806864Z"
    }
   },
   "outputs": [],
   "source": [
    "df=pd.DataFrame({'img':img_list,'label':label_list})"
   ]
  },
  {
   "cell_type": "code",
   "execution_count": 7,
   "metadata": {
    "execution": {
     "iopub.execute_input": "2024-04-07T21:25:39.828431Z",
     "iopub.status.busy": "2024-04-07T21:25:39.827967Z",
     "iopub.status.idle": "2024-04-07T21:25:39.850577Z",
     "shell.execute_reply": "2024-04-07T21:25:39.849371Z",
     "shell.execute_reply.started": "2024-04-07T21:25:39.828400Z"
    }
   },
   "outputs": [
    {
     "data": {
      "text/html": [
       "<div>\n",
       "<style scoped>\n",
       "    .dataframe tbody tr th:only-of-type {\n",
       "        vertical-align: middle;\n",
       "    }\n",
       "\n",
       "    .dataframe tbody tr th {\n",
       "        vertical-align: top;\n",
       "    }\n",
       "\n",
       "    .dataframe thead th {\n",
       "        text-align: right;\n",
       "    }\n",
       "</style>\n",
       "<table border=\"1\" class=\"dataframe\">\n",
       "  <thead>\n",
       "    <tr style=\"text-align: right;\">\n",
       "      <th></th>\n",
       "      <th>img</th>\n",
       "      <th>label</th>\n",
       "    </tr>\n",
       "  </thead>\n",
       "  <tbody>\n",
       "    <tr>\n",
       "      <th>73070</th>\n",
       "      <td>/kaggle/input/rice-image-dataset/Rice_Image_Da...</td>\n",
       "      <td>Karacadag</td>\n",
       "    </tr>\n",
       "    <tr>\n",
       "      <th>43809</th>\n",
       "      <td>/kaggle/input/rice-image-dataset/Rice_Image_Da...</td>\n",
       "      <td>Ipsala</td>\n",
       "    </tr>\n",
       "    <tr>\n",
       "      <th>36209</th>\n",
       "      <td>/kaggle/input/rice-image-dataset/Rice_Image_Da...</td>\n",
       "      <td>Ipsala</td>\n",
       "    </tr>\n",
       "    <tr>\n",
       "      <th>52748</th>\n",
       "      <td>/kaggle/input/rice-image-dataset/Rice_Image_Da...</td>\n",
       "      <td>Jasmine</td>\n",
       "    </tr>\n",
       "    <tr>\n",
       "      <th>3599</th>\n",
       "      <td>/kaggle/input/rice-image-dataset/Rice_Image_Da...</td>\n",
       "      <td>Arborio</td>\n",
       "    </tr>\n",
       "    <tr>\n",
       "      <th>38986</th>\n",
       "      <td>/kaggle/input/rice-image-dataset/Rice_Image_Da...</td>\n",
       "      <td>Ipsala</td>\n",
       "    </tr>\n",
       "    <tr>\n",
       "      <th>27395</th>\n",
       "      <td>/kaggle/input/rice-image-dataset/Rice_Image_Da...</td>\n",
       "      <td>Basmati</td>\n",
       "    </tr>\n",
       "    <tr>\n",
       "      <th>68958</th>\n",
       "      <td>/kaggle/input/rice-image-dataset/Rice_Image_Da...</td>\n",
       "      <td>Karacadag</td>\n",
       "    </tr>\n",
       "    <tr>\n",
       "      <th>22841</th>\n",
       "      <td>/kaggle/input/rice-image-dataset/Rice_Image_Da...</td>\n",
       "      <td>Basmati</td>\n",
       "    </tr>\n",
       "    <tr>\n",
       "      <th>58327</th>\n",
       "      <td>/kaggle/input/rice-image-dataset/Rice_Image_Da...</td>\n",
       "      <td>Jasmine</td>\n",
       "    </tr>\n",
       "  </tbody>\n",
       "</table>\n",
       "</div>"
      ],
      "text/plain": [
       "                                                     img      label\n",
       "73070  /kaggle/input/rice-image-dataset/Rice_Image_Da...  Karacadag\n",
       "43809  /kaggle/input/rice-image-dataset/Rice_Image_Da...     Ipsala\n",
       "36209  /kaggle/input/rice-image-dataset/Rice_Image_Da...     Ipsala\n",
       "52748  /kaggle/input/rice-image-dataset/Rice_Image_Da...    Jasmine\n",
       "3599   /kaggle/input/rice-image-dataset/Rice_Image_Da...    Arborio\n",
       "38986  /kaggle/input/rice-image-dataset/Rice_Image_Da...     Ipsala\n",
       "27395  /kaggle/input/rice-image-dataset/Rice_Image_Da...    Basmati\n",
       "68958  /kaggle/input/rice-image-dataset/Rice_Image_Da...  Karacadag\n",
       "22841  /kaggle/input/rice-image-dataset/Rice_Image_Da...    Basmati\n",
       "58327  /kaggle/input/rice-image-dataset/Rice_Image_Da...    Jasmine"
      ]
     },
     "execution_count": 7,
     "metadata": {},
     "output_type": "execute_result"
    }
   ],
   "source": [
    "df.sample(10)"
   ]
  },
  {
   "cell_type": "code",
   "execution_count": 8,
   "metadata": {
    "execution": {
     "iopub.execute_input": "2024-04-07T21:25:39.852177Z",
     "iopub.status.busy": "2024-04-07T21:25:39.851818Z",
     "iopub.status.idle": "2024-04-07T21:25:39.857038Z",
     "shell.execute_reply": "2024-04-07T21:25:39.855804Z",
     "shell.execute_reply.started": "2024-04-07T21:25:39.852125Z"
    }
   },
   "outputs": [],
   "source": [
    "d={'Arborio':0,'Basmati':1,'Ipsala':2,'Jasmine':3,'Karacadag':4}"
   ]
  },
  {
   "cell_type": "code",
   "execution_count": 9,
   "metadata": {
    "execution": {
     "iopub.execute_input": "2024-04-07T21:25:39.859180Z",
     "iopub.status.busy": "2024-04-07T21:25:39.858495Z",
     "iopub.status.idle": "2024-04-07T21:25:39.875780Z",
     "shell.execute_reply": "2024-04-07T21:25:39.874286Z",
     "shell.execute_reply.started": "2024-04-07T21:25:39.859125Z"
    }
   },
   "outputs": [],
   "source": [
    "df['encode_label']=df['label'].map(d)"
   ]
  },
  {
   "cell_type": "code",
   "execution_count": 10,
   "metadata": {
    "execution": {
     "iopub.execute_input": "2024-04-07T21:25:39.878588Z",
     "iopub.status.busy": "2024-04-07T21:25:39.877228Z",
     "iopub.status.idle": "2024-04-07T21:25:39.893115Z",
     "shell.execute_reply": "2024-04-07T21:25:39.891967Z",
     "shell.execute_reply.started": "2024-04-07T21:25:39.878549Z"
    }
   },
   "outputs": [
    {
     "data": {
      "text/html": [
       "<div>\n",
       "<style scoped>\n",
       "    .dataframe tbody tr th:only-of-type {\n",
       "        vertical-align: middle;\n",
       "    }\n",
       "\n",
       "    .dataframe tbody tr th {\n",
       "        vertical-align: top;\n",
       "    }\n",
       "\n",
       "    .dataframe thead th {\n",
       "        text-align: right;\n",
       "    }\n",
       "</style>\n",
       "<table border=\"1\" class=\"dataframe\">\n",
       "  <thead>\n",
       "    <tr style=\"text-align: right;\">\n",
       "      <th></th>\n",
       "      <th>img</th>\n",
       "      <th>label</th>\n",
       "      <th>encode_label</th>\n",
       "    </tr>\n",
       "  </thead>\n",
       "  <tbody>\n",
       "    <tr>\n",
       "      <th>16512</th>\n",
       "      <td>/kaggle/input/rice-image-dataset/Rice_Image_Da...</td>\n",
       "      <td>Basmati</td>\n",
       "      <td>1</td>\n",
       "    </tr>\n",
       "    <tr>\n",
       "      <th>40078</th>\n",
       "      <td>/kaggle/input/rice-image-dataset/Rice_Image_Da...</td>\n",
       "      <td>Ipsala</td>\n",
       "      <td>2</td>\n",
       "    </tr>\n",
       "    <tr>\n",
       "      <th>1891</th>\n",
       "      <td>/kaggle/input/rice-image-dataset/Rice_Image_Da...</td>\n",
       "      <td>Arborio</td>\n",
       "      <td>0</td>\n",
       "    </tr>\n",
       "    <tr>\n",
       "      <th>50086</th>\n",
       "      <td>/kaggle/input/rice-image-dataset/Rice_Image_Da...</td>\n",
       "      <td>Jasmine</td>\n",
       "      <td>3</td>\n",
       "    </tr>\n",
       "    <tr>\n",
       "      <th>17575</th>\n",
       "      <td>/kaggle/input/rice-image-dataset/Rice_Image_Da...</td>\n",
       "      <td>Basmati</td>\n",
       "      <td>1</td>\n",
       "    </tr>\n",
       "  </tbody>\n",
       "</table>\n",
       "</div>"
      ],
      "text/plain": [
       "                                                     img    label  \\\n",
       "16512  /kaggle/input/rice-image-dataset/Rice_Image_Da...  Basmati   \n",
       "40078  /kaggle/input/rice-image-dataset/Rice_Image_Da...   Ipsala   \n",
       "1891   /kaggle/input/rice-image-dataset/Rice_Image_Da...  Arborio   \n",
       "50086  /kaggle/input/rice-image-dataset/Rice_Image_Da...  Jasmine   \n",
       "17575  /kaggle/input/rice-image-dataset/Rice_Image_Da...  Basmati   \n",
       "\n",
       "       encode_label  \n",
       "16512             1  \n",
       "40078             2  \n",
       "1891              0  \n",
       "50086             3  \n",
       "17575             1  "
      ]
     },
     "execution_count": 10,
     "metadata": {},
     "output_type": "execute_result"
    }
   ],
   "source": [
    "df.sample(5)"
   ]
  },
  {
   "cell_type": "code",
   "execution_count": 11,
   "metadata": {
    "execution": {
     "iopub.execute_input": "2024-04-07T21:25:39.894722Z",
     "iopub.status.busy": "2024-04-07T21:25:39.894406Z",
     "iopub.status.idle": "2024-04-07T21:25:39.902127Z",
     "shell.execute_reply": "2024-04-07T21:25:39.901092Z",
     "shell.execute_reply.started": "2024-04-07T21:25:39.894696Z"
    }
   },
   "outputs": [],
   "source": [
    "import numpy as np"
   ]
  },
  {
   "cell_type": "code",
   "execution_count": 12,
   "metadata": {
    "execution": {
     "iopub.execute_input": "2024-04-07T21:25:39.904209Z",
     "iopub.status.busy": "2024-04-07T21:25:39.903500Z",
     "iopub.status.idle": "2024-04-07T21:25:39.914593Z",
     "shell.execute_reply": "2024-04-07T21:25:39.913594Z",
     "shell.execute_reply.started": "2024-04-07T21:25:39.904175Z"
    }
   },
   "outputs": [],
   "source": [
    "import matplotlib.pyplot as plt"
   ]
  },
  {
   "cell_type": "code",
   "execution_count": 13,
   "metadata": {
    "execution": {
     "iopub.execute_input": "2024-04-07T21:25:39.920765Z",
     "iopub.status.busy": "2024-04-07T21:25:39.919808Z",
     "iopub.status.idle": "2024-04-07T21:25:39.929248Z",
     "shell.execute_reply": "2024-04-07T21:25:39.928379Z",
     "shell.execute_reply.started": "2024-04-07T21:25:39.920733Z"
    }
   },
   "outputs": [],
   "source": [
    "image=cv2.imread(str(df['img'][55]))"
   ]
  },
  {
   "cell_type": "code",
   "execution_count": 14,
   "metadata": {
    "execution": {
     "iopub.execute_input": "2024-04-07T21:25:39.930996Z",
     "iopub.status.busy": "2024-04-07T21:25:39.930645Z",
     "iopub.status.idle": "2024-04-07T21:25:40.206341Z",
     "shell.execute_reply": "2024-04-07T21:25:40.205225Z",
     "shell.execute_reply.started": "2024-04-07T21:25:39.930962Z"
    }
   },
   "outputs": [
    {
     "data": {
      "image/png": "[encoded data removed]",
      "text/plain": [
       "<Figure size 640x480 with 1 Axes>"
      ]
     },
     "metadata": {},
     "output_type": "display_data"
    }
   ],
   "source": [
    "plt.imshow(image);"
   ]
  },
  {
   "cell_type": "code",
   "execution_count": 15,
   "metadata": {
    "execution": {
     "iopub.execute_input": "2024-04-07T21:25:40.208658Z",
     "iopub.status.busy": "2024-04-07T21:25:40.208218Z",
     "iopub.status.idle": "2024-04-07T21:28:17.848413Z",
     "shell.execute_reply": "2024-04-07T21:28:17.847033Z",
     "shell.execute_reply.started": "2024-04-07T21:25:40.208619Z"
    }
   },
   "outputs": [],
   "source": [
    "x=[]\n",
    "for img in df['img']:\n",
    "    img=cv2.imread(img)\n",
    "    img=cv2.resize(img,(32,32)) \n",
    "    img=img/255.0    \n",
    "    x.append(img)"
   ]
  },
  {
   "cell_type": "code",
   "execution_count": 16,
   "metadata": {
    "execution": {
     "iopub.execute_input": "2024-04-07T21:28:17.850538Z",
     "iopub.status.busy": "2024-04-07T21:28:17.850192Z",
     "iopub.status.idle": "2024-04-07T21:28:18.639880Z",
     "shell.execute_reply": "2024-04-07T21:28:18.639055Z",
     "shell.execute_reply.started": "2024-04-07T21:28:17.850511Z"
    }
   },
   "outputs": [],
   "source": [
    "x=np.array(x)"
   ]
  },
  {
   "cell_type": "code",
   "execution_count": 17,
   "metadata": {
    "collapsed": true,
    "execution": {
     "iopub.execute_input": "2024-04-07T21:28:18.641517Z",
     "iopub.status.busy": "2024-04-07T21:28:18.641196Z",
     "iopub.status.idle": "2024-04-07T21:28:18.660939Z",
     "shell.execute_reply": "2024-04-07T21:28:18.659891Z",
     "shell.execute_reply.started": "2024-04-07T21:28:18.641489Z"
    },
    "jupyter": {
     "outputs_hidden": true
    }
   },
   "outputs": [
    {
     "data": {
      "text/plain": [
       "array([[[[0.        , 0.        , 0.        ],\n",
       "         [0.        , 0.        , 0.        ],\n",
       "         [0.        , 0.        , 0.        ],\n",
       "         ...,\n",
       "         [0.        , 0.        , 0.        ],\n",
       "         [0.        , 0.        , 0.        ],\n",
       "         [0.        , 0.        , 0.        ]],\n",
       "\n",
       "        [[0.        , 0.        , 0.        ],\n",
       "         [0.        , 0.        , 0.        ],\n",
       "         [0.        , 0.        , 0.        ],\n",
       "         ...,\n",
       "         [0.        , 0.        , 0.        ],\n",
       "         [0.        , 0.        , 0.        ],\n",
       "         [0.        , 0.        , 0.        ]],\n",
       "\n",
       "        [[0.00784314, 0.00784314, 0.00784314],\n",
       "         [0.00784314, 0.00784314, 0.00784314],\n",
       "         [0.00392157, 0.00392157, 0.00392157],\n",
       "         ...,\n",
       "         [0.        , 0.        , 0.        ],\n",
       "         [0.        , 0.        , 0.        ],\n",
       "         [0.        , 0.        , 0.        ]],\n",
       "\n",
       "        ...,\n",
       "\n",
       "        [[0.        , 0.        , 0.        ],\n",
       "         [0.        , 0.        , 0.        ],\n",
       "         [0.        , 0.        , 0.        ],\n",
       "         ...,\n",
       "         [0.        , 0.        , 0.        ],\n",
       "         [0.        , 0.        , 0.        ],\n",
       "         [0.        , 0.        , 0.        ]],\n",
       "\n",
       "        [[0.        , 0.        , 0.        ],\n",
       "         [0.        , 0.        , 0.        ],\n",
       "         [0.        , 0.        , 0.        ],\n",
       "         ...,\n",
       "         [0.        , 0.        , 0.        ],\n",
       "         [0.        , 0.        , 0.        ],\n",
       "         [0.        , 0.        , 0.        ]],\n",
       "\n",
       "        [[0.        , 0.        , 0.        ],\n",
       "         [0.        , 0.        , 0.        ],\n",
       "         [0.        , 0.        , 0.        ],\n",
       "         ...,\n",
       "         [0.00392157, 0.00392157, 0.00392157],\n",
       "         [0.        , 0.        , 0.        ],\n",
       "         [0.        , 0.        , 0.        ]]],\n",
       "\n",
       "\n",
       "       [[[0.        , 0.        , 0.        ],\n",
       "         [0.        , 0.        , 0.        ],\n",
       "         [0.        , 0.        , 0.        ],\n",
       "         ...,\n",
       "         [0.        , 0.        , 0.        ],\n",
       "         [0.        , 0.        , 0.        ],\n",
       "         [0.        , 0.        , 0.        ]],\n",
       "\n",
       "        [[0.        , 0.        , 0.        ],\n",
       "         [0.        , 0.        , 0.        ],\n",
       "         [0.        , 0.        , 0.        ],\n",
       "         ...,\n",
       "         [0.        , 0.        , 0.        ],\n",
       "         [0.        , 0.        , 0.        ],\n",
       "         [0.        , 0.        , 0.        ]],\n",
       "\n",
       "        [[0.00784314, 0.00784314, 0.00784314],\n",
       "         [0.00784314, 0.00784314, 0.00784314],\n",
       "         [0.00392157, 0.00392157, 0.00392157],\n",
       "         ...,\n",
       "         [0.        , 0.        , 0.        ],\n",
       "         [0.        , 0.        , 0.        ],\n",
       "         [0.        , 0.        , 0.        ]],\n",
       "\n",
       "        ...,\n",
       "\n",
       "        [[0.        , 0.        , 0.        ],\n",
       "         [0.        , 0.        , 0.        ],\n",
       "         [0.        , 0.        , 0.        ],\n",
       "         ...,\n",
       "         [0.        , 0.        , 0.        ],\n",
       "         [0.        , 0.        , 0.        ],\n",
       "         [0.        , 0.        , 0.        ]],\n",
       "\n",
       "        [[0.        , 0.        , 0.        ],\n",
       "         [0.        , 0.        , 0.        ],\n",
       "         [0.        , 0.        , 0.        ],\n",
       "         ...,\n",
       "         [0.        , 0.        , 0.        ],\n",
       "         [0.        , 0.        , 0.        ],\n",
       "         [0.        , 0.        , 0.        ]],\n",
       "\n",
       "        [[0.        , 0.        , 0.        ],\n",
       "         [0.        , 0.        , 0.        ],\n",
       "         [0.        , 0.        , 0.        ],\n",
       "         ...,\n",
       "         [0.00392157, 0.00392157, 0.00392157],\n",
       "         [0.        , 0.        , 0.        ],\n",
       "         [0.        , 0.        , 0.        ]]],\n",
       "\n",
       "\n",
       "       [[[0.        , 0.        , 0.        ],\n",
       "         [0.        , 0.        , 0.        ],\n",
       "         [0.        , 0.        , 0.        ],\n",
       "         ...,\n",
       "         [0.        , 0.        , 0.        ],\n",
       "         [0.        , 0.        , 0.        ],\n",
       "         [0.        , 0.        , 0.        ]],\n",
       "\n",
       "        [[0.        , 0.        , 0.        ],\n",
       "         [0.        , 0.        , 0.        ],\n",
       "         [0.        , 0.        , 0.        ],\n",
       "         ...,\n",
       "         [0.        , 0.        , 0.        ],\n",
       "         [0.        , 0.        , 0.        ],\n",
       "         [0.        , 0.        , 0.        ]],\n",
       "\n",
       "        [[0.00784314, 0.00784314, 0.00784314],\n",
       "         [0.00784314, 0.00784314, 0.00784314],\n",
       "         [0.00392157, 0.00392157, 0.00392157],\n",
       "         ...,\n",
       "         [0.        , 0.        , 0.        ],\n",
       "         [0.        , 0.        , 0.        ],\n",
       "         [0.        , 0.        , 0.        ]],\n",
       "\n",
       "        ...,\n",
       "\n",
       "        [[0.        , 0.        , 0.        ],\n",
       "         [0.        , 0.        , 0.        ],\n",
       "         [0.        , 0.        , 0.        ],\n",
       "         ...,\n",
       "         [0.        , 0.        , 0.        ],\n",
       "         [0.        , 0.        , 0.        ],\n",
       "         [0.        , 0.        , 0.        ]],\n",
       "\n",
       "        [[0.        , 0.        , 0.        ],\n",
       "         [0.        , 0.        , 0.        ],\n",
       "         [0.        , 0.        , 0.        ],\n",
       "         ...,\n",
       "         [0.        , 0.        , 0.        ],\n",
       "         [0.        , 0.        , 0.        ],\n",
       "         [0.        , 0.        , 0.        ]],\n",
       "\n",
       "        [[0.        , 0.        , 0.        ],\n",
       "         [0.        , 0.        , 0.        ],\n",
       "         [0.        , 0.        , 0.        ],\n",
       "         ...,\n",
       "         [0.00392157, 0.00392157, 0.00392157],\n",
       "         [0.        , 0.        , 0.        ],\n",
       "         [0.        , 0.        , 0.        ]]],\n",
       "\n",
       "\n",
       "       ...,\n",
       "\n",
       "\n",
       "       [[[0.        , 0.        , 0.        ],\n",
       "         [0.        , 0.        , 0.        ],\n",
       "         [0.        , 0.        , 0.        ],\n",
       "         ...,\n",
       "         [0.        , 0.        , 0.        ],\n",
       "         [0.        , 0.        , 0.        ],\n",
       "         [0.        , 0.        , 0.        ]],\n",
       "\n",
       "        [[0.        , 0.        , 0.        ],\n",
       "         [0.        , 0.        , 0.        ],\n",
       "         [0.        , 0.        , 0.        ],\n",
       "         ...,\n",
       "         [0.        , 0.        , 0.        ],\n",
       "         [0.        , 0.        , 0.        ],\n",
       "         [0.        , 0.        , 0.        ]],\n",
       "\n",
       "        [[0.00784314, 0.00784314, 0.00784314],\n",
       "         [0.00784314, 0.00784314, 0.00784314],\n",
       "         [0.00392157, 0.00392157, 0.00392157],\n",
       "         ...,\n",
       "         [0.        , 0.        , 0.        ],\n",
       "         [0.        , 0.        , 0.        ],\n",
       "         [0.        , 0.        , 0.        ]],\n",
       "\n",
       "        ...,\n",
       "\n",
       "        [[0.        , 0.        , 0.        ],\n",
       "         [0.        , 0.        , 0.        ],\n",
       "         [0.        , 0.        , 0.        ],\n",
       "         ...,\n",
       "         [0.        , 0.        , 0.        ],\n",
       "         [0.        , 0.        , 0.        ],\n",
       "         [0.        , 0.        , 0.        ]],\n",
       "\n",
       "        [[0.        , 0.        , 0.        ],\n",
       "         [0.        , 0.        , 0.        ],\n",
       "         [0.        , 0.        , 0.        ],\n",
       "         ...,\n",
       "         [0.        , 0.        , 0.        ],\n",
       "         [0.        , 0.        , 0.        ],\n",
       "         [0.        , 0.        , 0.        ]],\n",
       "\n",
       "        [[0.        , 0.        , 0.        ],\n",
       "         [0.        , 0.        , 0.        ],\n",
       "         [0.        , 0.        , 0.        ],\n",
       "         ...,\n",
       "         [0.00392157, 0.00392157, 0.00392157],\n",
       "         [0.        , 0.        , 0.        ],\n",
       "         [0.        , 0.        , 0.        ]]],\n",
       "\n",
       "\n",
       "       [[[0.        , 0.        , 0.        ],\n",
       "         [0.        , 0.        , 0.        ],\n",
       "         [0.        , 0.        , 0.        ],\n",
       "         ...,\n",
       "         [0.        , 0.        , 0.        ],\n",
       "         [0.        , 0.        , 0.        ],\n",
       "         [0.        , 0.        , 0.        ]],\n",
       "\n",
       "        [[0.        , 0.        , 0.        ],\n",
       "         [0.        , 0.        , 0.        ],\n",
       "         [0.        , 0.        , 0.        ],\n",
       "         ...,\n",
       "         [0.        , 0.        , 0.        ],\n",
       "         [0.        , 0.        , 0.        ],\n",
       "         [0.        , 0.        , 0.        ]],\n",
       "\n",
       "        [[0.00784314, 0.00784314, 0.00784314],\n",
       "         [0.00784314, 0.00784314, 0.00784314],\n",
       "         [0.00392157, 0.00392157, 0.00392157],\n",
       "         ...,\n",
       "         [0.        , 0.        , 0.        ],\n",
       "         [0.        , 0.        , 0.        ],\n",
       "         [0.        , 0.        , 0.        ]],\n",
       "\n",
       "        ...,\n",
       "\n",
       "        [[0.        , 0.        , 0.        ],\n",
       "         [0.        , 0.        , 0.        ],\n",
       "         [0.        , 0.        , 0.        ],\n",
       "         ...,\n",
       "         [0.        , 0.        , 0.        ],\n",
       "         [0.        , 0.        , 0.        ],\n",
       "         [0.        , 0.        , 0.        ]],\n",
       "\n",
       "        [[0.        , 0.        , 0.        ],\n",
       "         [0.        , 0.        , 0.        ],\n",
       "         [0.        , 0.        , 0.        ],\n",
       "         ...,\n",
       "         [0.        , 0.        , 0.        ],\n",
       "         [0.        , 0.        , 0.        ],\n",
       "         [0.        , 0.        , 0.        ]],\n",
       "\n",
       "        [[0.        , 0.        , 0.        ],\n",
       "         [0.        , 0.        , 0.        ],\n",
       "         [0.        , 0.        , 0.        ],\n",
       "         ...,\n",
       "         [0.00392157, 0.00392157, 0.00392157],\n",
       "         [0.        , 0.        , 0.        ],\n",
       "         [0.        , 0.        , 0.        ]]],\n",
       "\n",
       "\n",
       "       [[[0.        , 0.        , 0.        ],\n",
       "         [0.        , 0.        , 0.        ],\n",
       "         [0.        , 0.        , 0.        ],\n",
       "         ...,\n",
       "         [0.        , 0.        , 0.        ],\n",
       "         [0.        , 0.        , 0.        ],\n",
       "         [0.        , 0.        , 0.        ]],\n",
       "\n",
       "        [[0.        , 0.        , 0.        ],\n",
       "         [0.        , 0.        , 0.        ],\n",
       "         [0.        , 0.        , 0.        ],\n",
       "         ...,\n",
       "         [0.        , 0.        , 0.        ],\n",
       "         [0.        , 0.        , 0.        ],\n",
       "         [0.        , 0.        , 0.        ]],\n",
       "\n",
       "        [[0.00784314, 0.00784314, 0.00784314],\n",
       "         [0.00784314, 0.00784314, 0.00784314],\n",
       "         [0.00392157, 0.00392157, 0.00392157],\n",
       "         ...,\n",
       "         [0.        , 0.        , 0.        ],\n",
       "         [0.        , 0.        , 0.        ],\n",
       "         [0.        , 0.        , 0.        ]],\n",
       "\n",
       "        ...,\n",
       "\n",
       "        [[0.        , 0.        , 0.        ],\n",
       "         [0.        , 0.        , 0.        ],\n",
       "         [0.        , 0.        , 0.        ],\n",
       "         ...,\n",
       "         [0.        , 0.        , 0.        ],\n",
       "         [0.        , 0.        , 0.        ],\n",
       "         [0.        , 0.        , 0.        ]],\n",
       "\n",
       "        [[0.        , 0.        , 0.        ],\n",
       "         [0.        , 0.        , 0.        ],\n",
       "         [0.        , 0.        , 0.        ],\n",
       "         ...,\n",
       "         [0.        , 0.        , 0.        ],\n",
       "         [0.        , 0.        , 0.        ],\n",
       "         [0.        , 0.        , 0.        ]],\n",
       "\n",
       "        [[0.        , 0.        , 0.        ],\n",
       "         [0.        , 0.        , 0.        ],\n",
       "         [0.        , 0.        , 0.        ],\n",
       "         ...,\n",
       "         [0.00392157, 0.00392157, 0.00392157],\n",
       "         [0.        , 0.        , 0.        ],\n",
       "         [0.        , 0.        , 0.        ]]]])"
      ]
     },
     "execution_count": 17,
     "metadata": {},
     "output_type": "execute_result"
    }
   ],
   "source": [
    "x"
   ]
  },
  {
   "cell_type": "code",
   "execution_count": 18,
   "metadata": {
    "execution": {
     "iopub.execute_input": "2024-04-07T21:28:18.663275Z",
     "iopub.status.busy": "2024-04-07T21:28:18.662735Z",
     "iopub.status.idle": "2024-04-07T21:28:18.669790Z",
     "shell.execute_reply": "2024-04-07T21:28:18.669086Z",
     "shell.execute_reply.started": "2024-04-07T21:28:18.663236Z"
    }
   },
   "outputs": [],
   "source": [
    "y=df['encode_label']"
   ]
  },
  {
   "cell_type": "code",
   "execution_count": 19,
   "metadata": {
    "execution": {
     "iopub.execute_input": "2024-04-07T21:28:18.671721Z",
     "iopub.status.busy": "2024-04-07T21:28:18.670905Z",
     "iopub.status.idle": "2024-04-07T21:28:18.683854Z",
     "shell.execute_reply": "2024-04-07T21:28:18.683023Z",
     "shell.execute_reply.started": "2024-04-07T21:28:18.671685Z"
    }
   },
   "outputs": [
    {
     "data": {
      "text/plain": [
       "encode_label\n",
       "0    15000\n",
       "1    15000\n",
       "2    15000\n",
       "3    15000\n",
       "4    15000\n",
       "Name: count, dtype: int64"
      ]
     },
     "execution_count": 19,
     "metadata": {},
     "output_type": "execute_result"
    }
   ],
   "source": [
    "y.value_counts()"
   ]
  },
  {
   "cell_type": "code",
   "execution_count": 20,
   "metadata": {
    "execution": {
     "iopub.execute_input": "2024-04-07T21:28:18.685483Z",
     "iopub.status.busy": "2024-04-07T21:28:18.684771Z",
     "iopub.status.idle": "2024-04-07T21:28:19.707800Z",
     "shell.execute_reply": "2024-04-07T21:28:19.706617Z",
     "shell.execute_reply.started": "2024-04-07T21:28:18.685456Z"
    }
   },
   "outputs": [],
   "source": [
    "from sklearn.model_selection import train_test_split"
   ]
  },
  {
   "cell_type": "code",
   "execution_count": 21,
   "metadata": {
    "execution": {
     "iopub.execute_input": "2024-04-07T21:28:19.709670Z",
     "iopub.status.busy": "2024-04-07T21:28:19.709233Z",
     "iopub.status.idle": "2024-04-07T21:28:20.189235Z",
     "shell.execute_reply": "2024-04-07T21:28:20.188229Z",
     "shell.execute_reply.started": "2024-04-07T21:28:19.709632Z"
    }
   },
   "outputs": [],
   "source": [
    "x_train,x_test,y_train,y_test=train_test_split(x,y,test_size=.20,random_state=42)"
   ]
  },
  {
   "cell_type": "code",
   "execution_count": 22,
   "metadata": {
    "execution": {
     "iopub.execute_input": "2024-04-07T21:28:20.191164Z",
     "iopub.status.busy": "2024-04-07T21:28:20.190850Z",
     "iopub.status.idle": "2024-04-07T21:28:23.859639Z",
     "shell.execute_reply": "2024-04-07T21:28:23.858312Z",
     "shell.execute_reply.started": "2024-04-07T21:28:20.191126Z"
    }
   },
   "outputs": [
    {
     "name": "stderr",
     "output_type": "stream",
     "text": [
      "2024-04-07 21:28:20.677552: E external/local_xla/xla/stream_executor/cuda/cuda_dnn.cc:9261] Unable to register cuDNN factory: Attempting to register factory for plugin cuDNN when one has already been registered\n",
      "2024-04-07 21:28:20.677651: E external/local_xla/xla/stream_executor/cuda/cuda_fft.cc:607] Unable to register cuFFT factory: Attempting to register factory for plugin cuFFT when one has already been registered\n",
      "2024-04-07 21:28:20.679250: E external/local_xla/xla/stream_executor/cuda/cuda_blas.cc:1515] Unable to register cuBLAS factory: Attempting to register factory for plugin cuBLAS when one has already been registered\n"
     ]
    }
   ],
   "source": [
    "from keras.models import Sequential\n",
    "from keras.layers import Dense,Conv2D, Input, Reshape, MaxPooling2D, Flatten, Dropout, BatchNormalization"
   ]
  },
  {
   "cell_type": "code",
   "execution_count": 23,
   "metadata": {
    "execution": {
     "iopub.execute_input": "2024-04-07T21:28:23.861666Z",
     "iopub.status.busy": "2024-04-07T21:28:23.861038Z",
     "iopub.status.idle": "2024-04-07T21:28:24.064673Z",
     "shell.execute_reply": "2024-04-07T21:28:24.063662Z",
     "shell.execute_reply.started": "2024-04-07T21:28:23.861634Z"
    }
   },
   "outputs": [],
   "source": [
    "model = Sequential()\n",
    "model.add(Input(shape=(32,32, 3)))\n",
    "\n",
    "\n",
    "model.add(Conv2D(32, kernel_size=(3, 3), activation='relu'))\n",
    "model.add(Conv2D(64, kernel_size=(3, 3), activation='relu'))\n",
    "model.add(MaxPooling2D(pool_size=(2, 2)))\n",
    "model.add(Conv2D(128, kernel_size=(3, 3), activation='relu'))\n",
    "model. add (BatchNormalization ())\n",
    "model.add(Conv2D(84, kernel_size=(3, 3), activation='relu'))\n",
    "model.add(MaxPooling2D(pool_size=(2, 2)))\n",
    "\n",
    "model.add(Conv2D(120, kernel_size=(3, 3), activation='relu'))\n",
    "model.add(MaxPooling2D(pool_size=(2, 2)))\n",
    "\n",
    "model.add(Flatten())\n",
    "\n",
    "model.add(Dense(128))\n",
    "model.add(Dense(64))\n",
    "model.add(Dense(5, activation='softmax'))\n",
    "\n",
    "model.compile(optimizer='adam', loss='sparse_categorical_crossentropy', metrics=['accuracy'])"
   ]
  },
  {
   "cell_type": "code",
   "execution_count": 27,
   "metadata": {
    "execution": {
     "iopub.execute_input": "2024-04-07T22:36:14.434988Z",
     "iopub.status.busy": "2024-04-07T22:36:14.433876Z",
     "iopub.status.idle": "2024-04-07T22:46:03.496732Z",
     "shell.execute_reply": "2024-04-07T22:46:03.495562Z",
     "shell.execute_reply.started": "2024-04-07T22:36:14.434951Z"
    }
   },
   "outputs": [
    {
     "name": "stdout",
     "output_type": "stream",
     "text": [
      "Epoch 1/3\n",
      "\u001b[1m1875/1875\u001b[0m \u001b[32m━━━━━━━━━━━━━━━━━━━━\u001b[0m\u001b[37m\u001b[0m \u001b[1m181s\u001b[0m 97ms/step - accuracy: 0.9966 - loss: 0.0112 - val_accuracy: 0.9873 - val_loss: 0.0397\n",
      "Epoch 2/3\n",
      "\u001b[1m1875/1875\u001b[0m \u001b[32m━━━━━━━━━━━━━━━━━━━━\u001b[0m\u001b[37m\u001b[0m \u001b[1m205s\u001b[0m 98ms/step - accuracy: 0.9973 - loss: 0.0093 - val_accuracy: 0.9893 - val_loss: 0.0452\n",
      "Epoch 3/3\n",
      "\u001b[1m1875/1875\u001b[0m \u001b[32m━━━━━━━━━━━━━━━━━━━━\u001b[0m\u001b[37m\u001b[0m \u001b[1m201s\u001b[0m 98ms/step - accuracy: 0.9978 - loss: 0.0069 - val_accuracy: 0.9385 - val_loss: 0.3670\n"
     ]
    }
   ],
   "source": [
    "history=model.fit(x_train,y_train,validation_data=(x_test,y_test), epochs=3,verbose=1)"
   ]
  },
  {
   "cell_type": "code",
   "execution_count": 28,
   "metadata": {
    "execution": {
     "iopub.execute_input": "2024-04-07T22:46:34.361045Z",
     "iopub.status.busy": "2024-04-07T22:46:34.360113Z",
     "iopub.status.idle": "2024-04-07T22:46:49.506483Z",
     "shell.execute_reply": "2024-04-07T22:46:49.505286Z",
     "shell.execute_reply.started": "2024-04-07T22:46:34.361004Z"
    }
   },
   "outputs": [
    {
     "name": "stdout",
     "output_type": "stream",
     "text": [
      "\u001b[1m469/469\u001b[0m \u001b[32m━━━━━━━━━━━━━━━━━━━━\u001b[0m\u001b[37m\u001b[0m \u001b[1m15s\u001b[0m 31ms/step - accuracy: 0.9393 - loss: 0.3574\n"
     ]
    }
   ],
   "source": [
    "loss,accuracy=model.evaluate(x_test,y_test)"
   ]
  },
  {
   "cell_type": "code",
   "execution_count": 29,
   "metadata": {
    "execution": {
     "iopub.execute_input": "2024-04-07T22:46:58.912298Z",
     "iopub.status.busy": "2024-04-07T22:46:58.910096Z",
     "iopub.status.idle": "2024-04-07T22:46:58.923001Z",
     "shell.execute_reply": "2024-04-07T22:46:58.921496Z",
     "shell.execute_reply.started": "2024-04-07T22:46:58.912235Z"
    }
   },
   "outputs": [
    {
     "data": {
      "text/plain": [
       "0.9385333061218262"
      ]
     },
     "execution_count": 29,
     "metadata": {},
     "output_type": "execute_result"
    }
   ],
   "source": [
    "accuracy"
   ]
  },
  {
   "cell_type": "code",
   "execution_count": 30,
   "metadata": {
    "execution": {
     "iopub.execute_input": "2024-04-07T22:47:00.930847Z",
     "iopub.status.busy": "2024-04-07T22:47:00.930377Z",
     "iopub.status.idle": "2024-04-07T22:47:16.434820Z",
     "shell.execute_reply": "2024-04-07T22:47:16.433538Z",
     "shell.execute_reply.started": "2024-04-07T22:47:00.930817Z"
    }
   },
   "outputs": [
    {
     "name": "stdout",
     "output_type": "stream",
     "text": [
      "\u001b[1m469/469\u001b[0m \u001b[32m━━━━━━━━━━━━━━━━━━━━\u001b[0m\u001b[37m\u001b[0m \u001b[1m15s\u001b[0m 31ms/step\n"
     ]
    }
   ],
   "source": [
    "tahmin=model.predict(x_test)"
   ]
  },
  {
   "cell_type": "code",
   "execution_count": 31,
   "metadata": {
    "execution": {
     "iopub.execute_input": "2024-04-07T22:47:16.438173Z",
     "iopub.status.busy": "2024-04-07T22:47:16.437770Z",
     "iopub.status.idle": "2024-04-07T22:47:16.547660Z",
     "shell.execute_reply": "2024-04-07T22:47:16.545078Z",
     "shell.execute_reply.started": "2024-04-07T22:47:16.438125Z"
    }
   },
   "outputs": [],
   "source": [
    "model.save('pirinccesitleri.h5')"
   ]
  },
  {
   "cell_type": "code",
   "execution_count": 32,
   "metadata": {
    "execution": {
     "iopub.execute_input": "2024-04-07T22:47:16.552896Z",
     "iopub.status.busy": "2024-04-07T22:47:16.550175Z",
     "iopub.status.idle": "2024-04-07T22:47:16.560859Z",
     "shell.execute_reply": "2024-04-07T22:47:16.559082Z",
     "shell.execute_reply.started": "2024-04-07T22:47:16.552840Z"
    }
   },
   "outputs": [],
   "source": [
    "import matplotlib.pyplot as plt"
   ]
  },
  {
   "cell_type": "code",
   "execution_count": 33,
   "metadata": {
    "execution": {
     "iopub.execute_input": "2024-04-07T22:47:16.564090Z",
     "iopub.status.busy": "2024-04-07T22:47:16.563657Z",
     "iopub.status.idle": "2024-04-07T22:47:16.972891Z",
     "shell.execute_reply": "2024-04-07T22:47:16.971477Z",
     "shell.execute_reply.started": "2024-04-07T22:47:16.564043Z"
    }
   },
   "outputs": [
    {
     "data": {
      "text/plain": [
       "<matplotlib.legend.Legend at 0x7b4174079210>"
      ]
     },
     "execution_count": 33,
     "metadata": {},
     "output_type": "execute_result"
    },
    {
     "data": {
      "image/png": "[encoded data removed]",
      "text/plain": [
       "<Figure size 640x480 with 1 Axes>"
      ]
     },
     "metadata": {},
     "output_type": "display_data"
    }
   ],
   "source": [
    "plt.plot(history.history['accuracy'],label='Accuracy')\n",
    "plt.plot(history.history['val_accuracy'],label='Val_Accuracy')\n",
    "plt.legend()"
   ]
  },
  {
   "cell_type": "code",
   "execution_count": 34,
   "metadata": {
    "execution": {
     "iopub.execute_input": "2024-04-07T22:47:16.974868Z",
     "iopub.status.busy": "2024-04-07T22:47:16.974492Z",
     "iopub.status.idle": "2024-04-07T22:47:16.987029Z",
     "shell.execute_reply": "2024-04-07T22:47:16.985421Z",
     "shell.execute_reply.started": "2024-04-07T22:47:16.974839Z"
    }
   },
   "outputs": [],
   "source": [
    "loss_f=pd.DataFrame(history.history)"
   ]
  },
  {
   "cell_type": "code",
   "execution_count": 35,
   "metadata": {
    "execution": {
     "iopub.execute_input": "2024-04-07T22:47:16.989796Z",
     "iopub.status.busy": "2024-04-07T22:47:16.989369Z",
     "iopub.status.idle": "2024-04-07T22:47:17.425340Z",
     "shell.execute_reply": "2024-04-07T22:47:17.423635Z",
     "shell.execute_reply.started": "2024-04-07T22:47:16.989764Z"
    }
   },
   "outputs": [
    {
     "data": {
      "text/plain": [
       "<Axes: >"
      ]
     },
     "execution_count": 35,
     "metadata": {},
     "output_type": "execute_result"
    },
    {
     "data": {
      "image/png": "[encoded data removed]",
      "text/plain": [
       "<Figure size 640x480 with 1 Axes>"
      ]
     },
     "metadata": {},
     "output_type": "display_data"
    }
   ],
   "source": [
    "loss_f.plot()"
   ]
  },
  {
   "cell_type": "code",
   "execution_count": 36,
   "metadata": {
    "execution": {
     "iopub.execute_input": "2024-04-07T22:47:28.721779Z",
     "iopub.status.busy": "2024-04-07T22:47:28.720812Z",
     "iopub.status.idle": "2024-04-07T22:47:28.728937Z",
     "shell.execute_reply": "2024-04-07T22:47:28.727377Z",
     "shell.execute_reply.started": "2024-04-07T22:47:28.721734Z"
    }
   },
   "outputs": [],
   "source": [
    "from sklearn.metrics import accuracy_score, confusion_matrix,classification_report"
   ]
  },
  {
   "cell_type": "code",
   "execution_count": 37,
   "metadata": {
    "execution": {
     "iopub.execute_input": "2024-04-07T22:47:28.899880Z",
     "iopub.status.busy": "2024-04-07T22:47:28.899244Z",
     "iopub.status.idle": "2024-04-07T22:47:28.917128Z",
     "shell.execute_reply": "2024-04-07T22:47:28.916035Z",
     "shell.execute_reply.started": "2024-04-07T22:47:28.899838Z"
    }
   },
   "outputs": [
    {
     "data": {
      "text/plain": [
       "array([[2808,    0,    0,  107,   82],\n",
       "       [   0, 2816,    0,  179,    0],\n",
       "       [  12,    0, 2535,  536,    0],\n",
       "       [   0,    1,    0, 2995,    0],\n",
       "       [   4,    0,    0,    1, 2924]])"
      ]
     },
     "execution_count": 37,
     "metadata": {},
     "output_type": "execute_result"
    }
   ],
   "source": [
    "confusion_matrix(y_test, np.argmax(tahmin, axis=1))"
   ]
  },
  {
   "cell_type": "code",
   "execution_count": 38,
   "metadata": {
    "execution": {
     "iopub.execute_input": "2024-04-07T22:47:29.049677Z",
     "iopub.status.busy": "2024-04-07T22:47:29.049265Z",
     "iopub.status.idle": "2024-04-07T22:47:29.060012Z",
     "shell.execute_reply": "2024-04-07T22:47:29.058895Z",
     "shell.execute_reply.started": "2024-04-07T22:47:29.049646Z"
    }
   },
   "outputs": [],
   "source": [
    "cm=confusion_matrix(y_test, np.argmax(tahmin, axis=1))"
   ]
  },
  {
   "cell_type": "code",
   "execution_count": 39,
   "metadata": {
    "execution": {
     "iopub.execute_input": "2024-04-07T22:47:31.050016Z",
     "iopub.status.busy": "2024-04-07T22:47:31.049585Z",
     "iopub.status.idle": "2024-04-07T22:47:31.219637Z",
     "shell.execute_reply": "2024-04-07T22:47:31.218310Z",
     "shell.execute_reply.started": "2024-04-07T22:47:31.049983Z"
    }
   },
   "outputs": [],
   "source": [
    "import seaborn as sns"
   ]
  },
  {
   "cell_type": "code",
   "execution_count": 40,
   "metadata": {
    "execution": {
     "iopub.execute_input": "2024-04-07T22:47:31.419214Z",
     "iopub.status.busy": "2024-04-07T22:47:31.418782Z",
     "iopub.status.idle": "2024-04-07T22:47:31.742839Z",
     "shell.execute_reply": "2024-04-07T22:47:31.741260Z",
     "shell.execute_reply.started": "2024-04-07T22:47:31.419179Z"
    }
   },
   "outputs": [
    {
     "data": {
      "image/png": "[encoded data removed]",
      "text/plain": [
       "<Figure size 640x480 with 2 Axes>"
      ]
     },
     "metadata": {},
     "output_type": "display_data"
    }
   ],
   "source": [
    "import seaborn as sns\n",
    "from sklearn.metrics import confusion_matrix\n",
    "\n",
    "sns.heatmap(confusion_matrix(y_test, np.argmax(tahmin, axis=1)), annot=False);"
   ]
  },
  {
   "cell_type": "code",
   "execution_count": 41,
   "metadata": {
    "execution": {
     "iopub.execute_input": "2024-04-07T22:47:34.921439Z",
     "iopub.status.busy": "2024-04-07T22:47:34.920996Z",
     "iopub.status.idle": "2024-04-07T22:47:34.969650Z",
     "shell.execute_reply": "2024-04-07T22:47:34.968231Z",
     "shell.execute_reply.started": "2024-04-07T22:47:34.921407Z"
    }
   },
   "outputs": [
    {
     "name": "stdout",
     "output_type": "stream",
     "text": [
      "              precision    recall  f1-score   support\n",
      "\n",
      "           0       0.99      0.94      0.96      2997\n",
      "           1       1.00      0.94      0.97      2995\n",
      "           2       1.00      0.82      0.90      3083\n",
      "           3       0.78      1.00      0.88      2996\n",
      "           4       0.97      1.00      0.99      2929\n",
      "\n",
      "    accuracy                           0.94     15000\n",
      "   macro avg       0.95      0.94      0.94     15000\n",
      "weighted avg       0.95      0.94      0.94     15000\n",
      "\n"
     ]
    }
   ],
   "source": [
    "print(classification_report(y_test, np.argmax(tahmin, axis=1)))"
   ]
  },
  {
   "cell_type": "markdown",
   "metadata": {},
   "source": [
    "### Here in Deeplearning we got accuracy: 0.9393 - loss: 0.3574"
   ]
  },
  {
   "cell_type": "code",
   "execution_count": null,
   "metadata": {},
   "outputs": [],
   "source": []
  }
 ],
 "metadata": {
  "kaggle": {
   "accelerator": "none",
   "dataSources": [
    {
     "datasetId": 2049052,
     "sourceId": 3399185,
     "sourceType": "datasetVersion"
    },
    {
     "datasetId": 4755713,
     "sourceId": 8061970,
     "sourceType": "datasetVersion"
    }
   ],
   "dockerImageVersionId": 30673,
   "isGpuEnabled": false,
   "isInternetEnabled": false,
   "language": "python",
   "sourceType": "notebook"
  },
  "kernelspec": {
   "display_name": "Python 3 (ipykernel)",
   "language": "python",
   "name": "python3"
  },
  "language_info": {
   "codemirror_mode": {
    "name": "ipython",
    "version": 3
   },
   "file_extension": ".py",
   "mimetype": "text/x-python",
   "name": "python",
   "nbconvert_exporter": "python",
   "pygments_lexer": "ipython3",
   "version": "3.11.7"
  }
 },
 "nbformat": 4,
 "nbformat_minor": 4
}
